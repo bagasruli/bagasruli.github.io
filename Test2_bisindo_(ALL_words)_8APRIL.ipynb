{
  "cells": [
    {
      "cell_type": "code",
      "execution_count": null,
      "metadata": {
        "colab": {
          "base_uri": "https://localhost:8080/"
        },
        "id": "cPk0Gjh_B6wb",
        "outputId": "90c80034-2d51-4a5c-d10f-7dad90eb4cc3"
      },
      "outputs": [
        {
          "output_type": "stream",
          "name": "stdout",
          "text": [
            "Mounted at /content/drive\n"
          ]
        }
      ],
      "source": [
        "from google.colab import drive\n",
        "drive.mount('/content/drive')"
      ]
    },
    {
      "cell_type": "markdown",
      "source": [
        "# module\n"
      ],
      "metadata": {
        "id": "FVemlx23mbLO"
      }
    },
    {
      "cell_type": "code",
      "execution_count": null,
      "metadata": {
        "colab": {
          "base_uri": "https://localhost:8080/"
        },
        "id": "DjZFAYxteA9M",
        "outputId": "aae2186b-4ea1-43ef-93ec-d2916e14aeb9"
      },
      "outputs": [
        {
          "output_type": "stream",
          "name": "stdout",
          "text": [
            "Requirement already satisfied: opencv-python in /usr/local/lib/python3.7/dist-packages (4.1.2.30)\n",
            "Requirement already satisfied: numpy>=1.14.5 in /usr/local/lib/python3.7/dist-packages (from opencv-python) (1.21.5)\n"
          ]
        }
      ],
      "source": [
        "! pip install opencv-python"
      ]
    },
    {
      "cell_type": "code",
      "execution_count": null,
      "metadata": {
        "id": "0yAhlijWeJga"
      },
      "outputs": [],
      "source": [
        "from warnings import filterwarnings\n",
        "import tensorflow\n",
        "from PIL import Image\n",
        "import glob\n",
        "from tensorflow.keras.preprocessing.image import ImageDataGenerator\n",
        "from tensorflow.keras.preprocessing.image import load_img, save_img, img_to_array\n",
        "from tensorflow.keras.applications import VGG19\n",
        "from tensorflow.keras.applications.vgg19 import preprocess_input\n",
        "from tensorflow.keras.preprocessing import image\n",
        "from tensorflow.keras import backend as K\n",
        "from tensorflow.keras.layers import Input\n",
        "from tensorflow.keras.models import Model\n",
        "from tensorflow.keras.optimizers import Adam,SGD,RMSprop,Adamax\n",
        "from tensorflow.keras.utils import to_categorical\n",
        "from sklearn.preprocessing import LabelBinarizer\n",
        "from sklearn.model_selection import train_test_split\n",
        "from sklearn.metrics import classification_report\n",
        "from sklearn.metrics import confusion_matrix\n",
        "import matplotlib.pyplot as plt\n",
        "from tensorflow.keras.layers import Input, Dense, Flatten, Dropout, BatchNormalization, GlobalMaxPooling2D\n",
        "from tensorflow.keras.optimizers import Adam,Adadelta,RMSprop,Adagrad\n",
        "from tensorflow.keras.preprocessing.image import ImageDataGenerator\n",
        "from tensorflow.keras.callbacks import ModelCheckpoint, ReduceLROnPlateau,EarlyStopping\n",
        "from tensorflow.keras.layers import Conv2D, SeparableConv2D, MaxPool2D, LeakyReLU, Activation\n",
        "from tensorflow.keras.applications.imagenet_utils import preprocess_input\n",
        "import numpy as np\n",
        "import argparse\n",
        "import cv2\n",
        "from sklearn.metrics import precision_score\n",
        "from sklearn.metrics import recall_score\n",
        "from sklearn.metrics import f1_score\n",
        "from tensorflow.keras.models import Model, Sequential\n",
        "from sklearn.model_selection import StratifiedKFold\n",
        "import scipy\n",
        "import skimage\n",
        "from skimage.transform import resize\n",
        "import random\n",
        "import os\n",
        "import seaborn as sns\n",
        "from tqdm import tqdm\n",
        "\n",
        "\n",
        "# Import the necessary packages\n",
        "from __future__ import print_function\n",
        "import numpy as np\n",
        "import argparse\n",
        "import matplotlib.pyplot as plt\n",
        "import cv2\n",
        "import cv2 as cv\n",
        "from matplotlib import pyplot as plt\n",
        "from skimage import data, io\n",
        "from skimage.util import img_as_ubyte\n",
        "from skimage.io import imshow, imread\n",
        "from skimage.color import rgb2hsv, hsv2rgb\n",
        "import matplotlib.patches as mpatches\n",
        "from skimage import data\n",
        "from skimage.filters import threshold_otsu\n",
        "from skimage.segmentation import clear_border\n",
        "from skimage.measure import label, regionprops\n",
        "from skimage.morphology import closing, square\n",
        "from skimage.color import label2rgb\n",
        "from skimage.filters import threshold_mean"
      ]
    },
    {
      "cell_type": "markdown",
      "source": [
        "# program"
      ],
      "metadata": {
        "id": "gS0bnV79mhRs"
      }
    },
    {
      "cell_type": "code",
      "execution_count": null,
      "metadata": {
        "id": "Unv21xxGoRYQ"
      },
      "outputs": [],
      "source": [
        "#labels = ['A','B','C','D','E','F','G','H','I','J','K','L','M','N','O','P','Q','R','S','T','U','V','W','X','Y','Z','del','nothing','space']\n",
        "labels = ['A','B','C','D','E','F','G','H','I','J','K','L','M','N','O','P','Q','R','S','T','U','V','W','X','Y','Z']"
      ]
    },
    {
      "cell_type": "code",
      "execution_count": null,
      "metadata": {
        "colab": {
          "base_uri": "https://localhost:8080/"
        },
        "id": "huYCl8rAeL2s",
        "outputId": "ea12db01-2280-4f12-c380-0677307097dc"
      },
      "outputs": [
        {
          "output_type": "stream",
          "name": "stderr",
          "text": [
            "100%|██████████| 20/20 [00:27<00:00,  1.36s/it]\n",
            "100%|██████████| 20/20 [00:26<00:00,  1.31s/it]\n",
            "100%|██████████| 20/20 [00:24<00:00,  1.24s/it]\n",
            "100%|██████████| 20/20 [00:27<00:00,  1.37s/it]\n",
            "100%|██████████| 20/20 [00:26<00:00,  1.32s/it]\n",
            "100%|██████████| 20/20 [00:25<00:00,  1.27s/it]\n",
            "100%|██████████| 20/20 [00:23<00:00,  1.16s/it]\n",
            "100%|██████████| 20/20 [00:24<00:00,  1.25s/it]\n",
            "100%|██████████| 20/20 [00:25<00:00,  1.29s/it]\n",
            "100%|██████████| 20/20 [00:14<00:00,  1.42it/s]\n",
            "100%|██████████| 20/20 [00:27<00:00,  1.39s/it]\n",
            "100%|██████████| 20/20 [00:24<00:00,  1.21s/it]\n",
            "100%|██████████| 20/20 [00:22<00:00,  1.14s/it]\n",
            "100%|██████████| 20/20 [00:21<00:00,  1.07s/it]\n",
            "100%|██████████| 20/20 [00:25<00:00,  1.27s/it]\n",
            "100%|██████████| 20/20 [00:23<00:00,  1.19s/it]\n",
            "100%|██████████| 20/20 [00:25<00:00,  1.30s/it]\n",
            "100%|██████████| 20/20 [00:14<00:00,  1.38it/s]\n",
            "100%|██████████| 20/20 [00:25<00:00,  1.29s/it]\n",
            "100%|██████████| 20/20 [00:23<00:00,  1.16s/it]\n",
            "100%|██████████| 20/20 [00:24<00:00,  1.24s/it]\n",
            "100%|██████████| 20/20 [00:27<00:00,  1.36s/it]\n",
            "100%|██████████| 20/20 [00:27<00:00,  1.37s/it]\n",
            "100%|██████████| 20/20 [00:23<00:00,  1.18s/it]\n",
            "100%|██████████| 20/20 [00:23<00:00,  1.17s/it]\n",
            "100%|██████████| 20/20 [00:27<00:00,  1.37s/it]\n"
          ]
        }
      ],
      "source": [
        "X_train = []\n",
        "y_train = []\n",
        "IMG_SIZE= 64\n",
        "        \n",
        "for i in labels:\n",
        "   # folderPath = os.path.join('/content/drive/MyDrive/Colab Notebooks/Proyek Akhir/dataset_kaggel/dataset/asl_alphabet_train','asl_alphabet_train',i)\n",
        "    folderPath = os.path.join('/content/drive/MyDrive/Colab Notebooks/Proyek Akhir/datasetBISINDO','BISINDO Sign Language',i)\n",
        "    for j in tqdm(os.listdir(folderPath)):\n",
        "        img = cv2.imread(os.path.join(folderPath,j))\n",
        "        img = cv2.cvtColor(img, cv2.COLOR_BGR2RGB)\n",
        "        img = cv2.resize(img,(IMG_SIZE, IMG_SIZE))\n",
        "        X_train.append(img)\n",
        "        y_train.append(i)    \n",
        "        \n",
        "X_train = np.array(X_train)\n",
        "y_train = np.array(y_train)"
      ]
    },
    {
      "cell_type": "code",
      "execution_count": null,
      "metadata": {
        "colab": {
          "base_uri": "https://localhost:8080/",
          "height": 487
        },
        "id": "KVLWcDQuo_8m",
        "outputId": "9845da48-5b8c-4433-a7aa-b7b8c45217a5"
      },
      "outputs": [
        {
          "output_type": "display_data",
          "data": {
            "text/plain": [
              "<Figure size 576x576 with 29 Axes>"
            ],
            "image/png": "[encoded data removed]"
          },
          "metadata": {
            "needs_background": "light"
          }
        }
      ],
      "source": [
        "colors_dark = [\"#1F1F1F\", \"#313131\", '#636363', '#AEAEAE', '#DADADA']\n",
        "colors_red = [\"#331313\", \"#582626\", '#9E1717', '#D35151', '#E9B4B4']\n",
        "colors_green = ['#01411C','#4B6F44','#4F7942','#74C365','#D0F0C0']\n",
        "'''\n",
        "sns.palplot(colors_dark)\n",
        "sns.palplot(colors_green)\n",
        "sns.palplot(colors_red)\n",
        "'''\n",
        "X_train.shape\n",
        "#X_train[0]\n",
        "\n",
        "k=0\n",
        "fig, ax = plt.subplots(1,29,figsize=(8,8))\n",
        "fig.text(s='Sample Image From Each Label',size=18,fontweight='bold',\n",
        "             fontname='monospace',color=colors_dark[1],y=0.75,x=0.3,alpha=0.9)\n",
        "for i in labels:\n",
        "    j=0\n",
        "    while True :\n",
        "        if y_train[j]==i:\n",
        "            ax[k].imshow(X_train[j])\n",
        "            ax[k].set_title(y_train[j])\n",
        "            ax[k].axis('off')\n",
        "            k+=1\n",
        "            break\n",
        "        j+=1"
      ]
    },
    {
      "cell_type": "code",
      "execution_count": null,
      "metadata": {
        "id": "ODBBHZnppXY1",
        "colab": {
          "base_uri": "https://localhost:8080/"
        },
        "outputId": "c6ba4faf-4c2b-4648-cb88-867f2a364629"
      },
      "outputs": [
        {
          "output_type": "stream",
          "name": "stdout",
          "text": [
            "Downloading data from https://storage.googleapis.com/tensorflow/keras-applications/vgg19/vgg19_weights_tf_dim_ordering_tf_kernels_notop.h5\n",
            "80142336/80134624 [==============================] - 2s 0us/step\n",
            "80150528/80134624 [==============================] - 2s 0us/step\n"
          ]
        }
      ],
      "source": [
        "import tensorflow as tf\n",
        "from sklearn.model_selection import train_test_split\n",
        "from sklearn.metrics import classification_report\n",
        "from sklearn.metrics import confusion_matrix\n",
        "\n",
        "X_train, X_test, y_train, y_test = train_test_split(X_train, y_train, test_size=0.2, stratify=y_train, random_state=60)\n",
        "\n",
        "X_train = X_train.astype('float32') #set x_train data type as float32\n",
        "X_test = X_test.astype('float32') #set x_test data type as float32\n",
        "X_train /= 255 #change x_train value between 0 - 1\n",
        "X_test /= 255 #change x_test value between 0 - 1\n",
        "\n",
        "len(X_train)\n",
        "len(X_test)\n",
        "\n",
        "y_train_new = []\n",
        "for i in y_train:\n",
        "    y_train_new.append(labels.index(i))\n",
        "y_train = y_train_new\n",
        "y_train = tf.keras.utils.to_categorical(y_train)\n",
        "\n",
        "\n",
        "y_test_new = []\n",
        "for i in y_test:\n",
        "    y_test_new.append(labels.index(i))\n",
        "y_test = y_test_new\n",
        "y_test = tf.keras.utils.to_categorical(y_test)\n",
        "\n",
        "input_shape = (64,64,3)\n",
        "\n",
        "# load base model\n",
        "vgg = VGG19(weights='imagenet', input_shape=input_shape, include_top=False)"
      ]
    },
    {
      "cell_type": "code",
      "execution_count": null,
      "metadata": {
        "colab": {
          "base_uri": "https://localhost:8080/"
        },
        "id": "eld3ccd6qari",
        "outputId": "1ff183f2-e976-4f6e-ebeb-c51d3216df27"
      },
      "outputs": [
        {
          "output_type": "stream",
          "name": "stdout",
          "text": [
            "Model: \"vgg19\"\n",
            "_________________________________________________________________\n",
            " Layer (type)                Output Shape              Param #   \n",
            "=================================================================\n",
            " input_1 (InputLayer)        [(None, 64, 64, 3)]       0         \n",
            "                                                                 \n",
            " block1_conv1 (Conv2D)       (None, 64, 64, 64)        1792      \n",
            "                                                                 \n",
            " block1_conv2 (Conv2D)       (None, 64, 64, 64)        36928     \n",
            "                                                                 \n",
            " block1_pool (MaxPooling2D)  (None, 32, 32, 64)        0         \n",
            "                                                                 \n",
            " block2_conv1 (Conv2D)       (None, 32, 32, 128)       73856     \n",
            "                                                                 \n",
            " block2_conv2 (Conv2D)       (None, 32, 32, 128)       147584    \n",
            "                                                                 \n",
            " block2_pool (MaxPooling2D)  (None, 16, 16, 128)       0         \n",
            "                                                                 \n",
            " block3_conv1 (Conv2D)       (None, 16, 16, 256)       295168    \n",
            "                                                                 \n",
            " block3_conv2 (Conv2D)       (None, 16, 16, 256)       590080    \n",
            "                                                                 \n",
            " block3_conv3 (Conv2D)       (None, 16, 16, 256)       590080    \n",
            "                                                                 \n",
            " block3_conv4 (Conv2D)       (None, 16, 16, 256)       590080    \n",
            "                                                                 \n",
            " block3_pool (MaxPooling2D)  (None, 8, 8, 256)         0         \n",
            "                                                                 \n",
            " block4_conv1 (Conv2D)       (None, 8, 8, 512)         1180160   \n",
            "                                                                 \n",
            " block4_conv2 (Conv2D)       (None, 8, 8, 512)         2359808   \n",
            "                                                                 \n",
            " block4_conv3 (Conv2D)       (None, 8, 8, 512)         2359808   \n",
            "                                                                 \n",
            " block4_conv4 (Conv2D)       (None, 8, 8, 512)         2359808   \n",
            "                                                                 \n",
            " block4_pool (MaxPooling2D)  (None, 4, 4, 512)         0         \n",
            "                                                                 \n",
            " block5_conv1 (Conv2D)       (None, 4, 4, 512)         2359808   \n",
            "                                                                 \n",
            " block5_conv2 (Conv2D)       (None, 4, 4, 512)         2359808   \n",
            "                                                                 \n",
            " block5_conv3 (Conv2D)       (None, 4, 4, 512)         2359808   \n",
            "                                                                 \n",
            " block5_conv4 (Conv2D)       (None, 4, 4, 512)         2359808   \n",
            "                                                                 \n",
            " block5_pool (MaxPooling2D)  (None, 2, 2, 512)         0         \n",
            "                                                                 \n",
            "=================================================================\n",
            "Total params: 20,024,384\n",
            "Trainable params: 20,024,384\n",
            "Non-trainable params: 0\n",
            "_________________________________________________________________\n"
          ]
        }
      ],
      "source": [
        "vgg.summary()"
      ]
    },
    {
      "cell_type": "code",
      "execution_count": null,
      "metadata": {
        "id": "qlq8qVPPqfMW"
      },
      "outputs": [],
      "source": [
        "model = vgg.output\n",
        "model = tf.keras.layers.GlobalMaxPooling2D()(model)\n",
        "model = tf.keras.layers.Flatten()(model)\n",
        "model = tf.keras.layers.Dense(512,activation='relu')(model)\n",
        "model = tf.keras.layers.Dropout(rate=0.25)(model)\n",
        "model = tf.keras.layers.Dense(26,activation='softmax')(model)#Ganti angka sesuai jumlah kelas\n",
        "model = tf.keras.models.Model(inputs=vgg.input, outputs = model)"
      ]
    },
    {
      "cell_type": "code",
      "execution_count": null,
      "metadata": {
        "colab": {
          "base_uri": "https://localhost:8080/"
        },
        "id": "ia4hxvREqjBh",
        "outputId": "59219b61-e516-47cb-a32b-cdab0a966dfe"
      },
      "outputs": [
        {
          "output_type": "stream",
          "name": "stdout",
          "text": [
            "Model: \"model\"\n",
            "_________________________________________________________________\n",
            " Layer (type)                Output Shape              Param #   \n",
            "=================================================================\n",
            " input_1 (InputLayer)        [(None, 64, 64, 3)]       0         \n",
            "                                                                 \n",
            " block1_conv1 (Conv2D)       (None, 64, 64, 64)        1792      \n",
            "                                                                 \n",
            " block1_conv2 (Conv2D)       (None, 64, 64, 64)        36928     \n",
            "                                                                 \n",
            " block1_pool (MaxPooling2D)  (None, 32, 32, 64)        0         \n",
            "                                                                 \n",
            " block2_conv1 (Conv2D)       (None, 32, 32, 128)       73856     \n",
            "                                                                 \n",
            " block2_conv2 (Conv2D)       (None, 32, 32, 128)       147584    \n",
            "                                                                 \n",
            " block2_pool (MaxPooling2D)  (None, 16, 16, 128)       0         \n",
            "                                                                 \n",
            " block3_conv1 (Conv2D)       (None, 16, 16, 256)       295168    \n",
            "                                                                 \n",
            " block3_conv2 (Conv2D)       (None, 16, 16, 256)       590080    \n",
            "                                                                 \n",
            " block3_conv3 (Conv2D)       (None, 16, 16, 256)       590080    \n",
            "                                                                 \n",
            " block3_conv4 (Conv2D)       (None, 16, 16, 256)       590080    \n",
            "                                                                 \n",
            " block3_pool (MaxPooling2D)  (None, 8, 8, 256)         0         \n",
            "                                                                 \n",
            " block4_conv1 (Conv2D)       (None, 8, 8, 512)         1180160   \n",
            "                                                                 \n",
            " block4_conv2 (Conv2D)       (None, 8, 8, 512)         2359808   \n",
            "                                                                 \n",
            " block4_conv3 (Conv2D)       (None, 8, 8, 512)         2359808   \n",
            "                                                                 \n",
            " block4_conv4 (Conv2D)       (None, 8, 8, 512)         2359808   \n",
            "                                                                 \n",
            " block4_pool (MaxPooling2D)  (None, 4, 4, 512)         0         \n",
            "                                                                 \n",
            " block5_conv1 (Conv2D)       (None, 4, 4, 512)         2359808   \n",
            "                                                                 \n",
            " block5_conv2 (Conv2D)       (None, 4, 4, 512)         2359808   \n",
            "                                                                 \n",
            " block5_conv3 (Conv2D)       (None, 4, 4, 512)         2359808   \n",
            "                                                                 \n",
            " block5_conv4 (Conv2D)       (None, 4, 4, 512)         2359808   \n",
            "                                                                 \n",
            " block5_pool (MaxPooling2D)  (None, 2, 2, 512)         0         \n",
            "                                                                 \n",
            " global_max_pooling2d (Globa  (None, 512)              0         \n",
            " lMaxPooling2D)                                                  \n",
            "                                                                 \n",
            " flatten (Flatten)           (None, 512)               0         \n",
            "                                                                 \n",
            " dense (Dense)               (None, 512)               262656    \n",
            "                                                                 \n",
            " dropout (Dropout)           (None, 512)               0         \n",
            "                                                                 \n",
            " dense_1 (Dense)             (None, 26)                13338     \n",
            "                                                                 \n",
            "=================================================================\n",
            "Total params: 20,300,378\n",
            "Trainable params: 20,300,378\n",
            "Non-trainable params: 0\n",
            "_________________________________________________________________\n"
          ]
        }
      ],
      "source": [
        "model.summary()"
      ]
    },
    {
      "cell_type": "code",
      "execution_count": null,
      "metadata": {
        "id": "2WScwDRAqyI7"
      },
      "outputs": [],
      "source": [
        "#COMPILE\n",
        "# Learning Rate\n",
        "#COMPILE\n",
        "# Learning Rate\n",
        "initial_learning_rate = 0.0001\n",
        "\n",
        "# Learning Rate Scheduler\n",
        "lr_schedule = tf.keras.optimizers.schedules.ExponentialDecay(\n",
        "    initial_learning_rate,\n",
        "    decay_steps=755,\n",
        "    decay_rate=0.9,\n",
        "    staircase=True)\n",
        "\n",
        "adam = Adam(lr_schedule)\n",
        "\n",
        "model.compile(optimizer=adam,loss='categorical_crossentropy',metrics=['accuracy'])"
      ]
    },
    {
      "cell_type": "code",
      "execution_count": null,
      "metadata": {
        "colab": {
          "base_uri": "https://localhost:8080/"
        },
        "id": "6XKYGN34q4Ca",
        "outputId": "cf8dab83-498f-4662-a725-fe56427701af"
      },
      "outputs": [
        {
          "output_type": "stream",
          "name": "stdout",
          "text": [
            "1 block1_conv1 (None, 64, 64, 64)\n",
            "2 block1_conv2 (None, 64, 64, 64)\n",
            "4 block2_conv1 (None, 32, 32, 128)\n",
            "5 block2_conv2 (None, 32, 32, 128)\n",
            "7 block3_conv1 (None, 16, 16, 256)\n",
            "8 block3_conv2 (None, 16, 16, 256)\n",
            "9 block3_conv3 (None, 16, 16, 256)\n",
            "10 block3_conv4 (None, 16, 16, 256)\n",
            "12 block4_conv1 (None, 8, 8, 512)\n",
            "13 block4_conv2 (None, 8, 8, 512)\n",
            "14 block4_conv3 (None, 8, 8, 512)\n",
            "15 block4_conv4 (None, 8, 8, 512)\n",
            "17 block5_conv1 (None, 4, 4, 512)\n",
            "18 block5_conv2 (None, 4, 4, 512)\n",
            "19 block5_conv3 (None, 4, 4, 512)\n",
            "20 block5_conv4 (None, 4, 4, 512)\n"
          ]
        }
      ],
      "source": [
        "model1 = vgg\n",
        "for i in range(len(model1.layers)):\n",
        "    layer = model1.layers[i]\n",
        "    if 'conv' not in layer.name:\n",
        "        continue    \n",
        "    print(i , layer.name , layer.output.shape)"
      ]
    },
    {
      "cell_type": "code",
      "execution_count": null,
      "metadata": {
        "colab": {
          "base_uri": "https://localhost:8080/"
        },
        "id": "0ZMqmkU3q7aY",
        "outputId": "6a09f51f-4893-4095-97b6-1d1fb9cd9bca"
      },
      "outputs": [
        {
          "output_type": "stream",
          "name": "stdout",
          "text": [
            "Layer Name is : block1_conv1 \n",
            "Fitler Shaper: (3, 3, 3, 64)\n"
          ]
        }
      ],
      "source": [
        "#Understand the filters in the model \n",
        "#Let us pick the first hidden layer as the layer of interest.\n",
        "layers = model1.layers #Conv layers at 1, 3, 6, 8, 11, 13, 15\n",
        "filters, biases = model1.layers[1].get_weights()\n",
        "layer_outputs = model1.layers[1].output\n",
        "model1_Input = model1.input\n",
        "print('Layer Name is :', layers[1].name, '\\nFitler Shaper:',filters.shape)"
      ]
    },
    {
      "cell_type": "code",
      "execution_count": null,
      "metadata": {
        "colab": {
          "base_uri": "https://localhost:8080/",
          "height": 70
        },
        "id": "3RdJ0gZgq-ft",
        "outputId": "2ecbc1ef-a0e8-4b90-feac-a100e11168cb"
      },
      "outputs": [
        {
          "output_type": "execute_result",
          "data": {
            "text/plain": [
              "\"\\nfor i in range(1, n_filters +1):\\n    f = filters[:, :, :, i-1]\\n    fig1 =plt.subplot(rows, columns, i)\\n    fig1.set_xticks([])  #Turn off axis\\n    fig1.set_yticks([])\\n    plt.imshow(f[:, :, 0], cmap='gray') #Show only the filters from 0th channel (R)\\n    #ix += 1\\nplt.show()   \\n\""
            ],
            "application/vnd.google.colaboratory.intrinsic+json": {
              "type": "string"
            }
          },
          "metadata": {},
          "execution_count": 16
        },
        {
          "output_type": "display_data",
          "data": {
            "text/plain": [
              "<Figure size 1440x1080 with 0 Axes>"
            ]
          },
          "metadata": {}
        }
      ],
      "source": [
        "# plot filters\n",
        "\n",
        "fig1=plt.figure(figsize=(20, 15))\n",
        "columns = 8\n",
        "rows = 8\n",
        "n_filters = columns * rows\n",
        "'''\n",
        "for i in range(1, n_filters +1):\n",
        "    f = filters[:, :, :, i-1]\n",
        "    fig1 =plt.subplot(rows, columns, i)\n",
        "    fig1.set_xticks([])  #Turn off axis\n",
        "    fig1.set_yticks([])\n",
        "    plt.imshow(f[:, :, 0], cmap='gray') #Show only the filters from 0th channel (R)\n",
        "    #ix += 1\n",
        "plt.show()   \n",
        "''' "
      ]
    },
    {
      "cell_type": "code",
      "execution_count": null,
      "metadata": {
        "colab": {
          "base_uri": "https://localhost:8080/"
        },
        "id": "Y8kd0WKvrBea",
        "outputId": "35a9a106-1448-4a9a-9591-bcdc7b8a1431"
      },
      "outputs": [
        {
          "output_type": "stream",
          "name": "stdout",
          "text": [
            "Epoch 1/8\n",
            "70/70 [==============================] - 78s 1s/step - loss: 0.8148 - accuracy: 0.7356 - val_loss: 0.4530 - val_accuracy: 0.8077\n",
            "Epoch 2/8\n",
            "70/70 [==============================] - 80s 1s/step - loss: 0.4985 - accuracy: 0.8101 - val_loss: 0.2489 - val_accuracy: 0.9231\n",
            "Epoch 3/8\n",
            "70/70 [==============================] - 78s 1s/step - loss: 0.3664 - accuracy: 0.8774 - val_loss: 0.1641 - val_accuracy: 0.9423\n",
            "Epoch 4/8\n",
            "70/70 [==============================] - 77s 1s/step - loss: 0.2220 - accuracy: 0.9135 - val_loss: 0.2457 - val_accuracy: 0.9327\n",
            "Epoch 5/8\n",
            "70/70 [==============================] - 77s 1s/step - loss: 0.2748 - accuracy: 0.9231 - val_loss: 0.1702 - val_accuracy: 0.9615\n",
            "Epoch 6/8\n",
            "70/70 [==============================] - 77s 1s/step - loss: 0.1058 - accuracy: 0.9615 - val_loss: 0.0912 - val_accuracy: 0.9808\n",
            "Epoch 7/8\n",
            "70/70 [==============================] - 76s 1s/step - loss: 0.0449 - accuracy: 0.9904 - val_loss: 0.0996 - val_accuracy: 0.9712\n",
            "Epoch 8/8\n",
            "70/70 [==============================] - 78s 1s/step - loss: 0.2163 - accuracy: 0.9375 - val_loss: 0.1046 - val_accuracy: 0.9904\n"
          ]
        }
      ],
      "source": [
        "checkpoint = ModelCheckpoint(\"/content/drive/MyDrive/Colab Notebooks/VGG19bagas8april.h5\",monitor=\"val_accuracy\",save_best_only=True,mode=\"auto\",verbose=0)\n",
        "A = 8\n",
        "\n",
        "history= model.fit(X_train, y_train,\n",
        "          validation_data=(X_test, y_test), \n",
        "          epochs=A, \n",
        "          batch_size=6,\n",
        "          callbacks=checkpoint)"
      ]
    },
    {
      "cell_type": "code",
      "source": [
        "filterwarnings('ignore')\n",
        "\n",
        "epochs = [i for i in range(A)]\n",
        "\n",
        "train_acc = history.history['accuracy']\n",
        "train_loss = history.history['loss']\n",
        "val_acc = history.history['val_accuracy']\n",
        "val_loss = history.history['val_loss']\n",
        "\n",
        "\n",
        "fig.text(s='Accuracy, loss, Recall, And Precision',size=18,fontweight='bold',\n",
        "             fontname='monospace',color=colors_dark[1], y=0.95, x=0.28, alpha=0.8)\n",
        "\n",
        "sns.despine()\n",
        "plt.plot(epochs, train_acc, marker='o',markerfacecolor=colors_green[2],color=colors_green[3],\n",
        "           label = 'Training Accuracy')\n",
        "plt.plot(epochs, val_acc, marker='o',markerfacecolor=colors_red[2],color=colors_red[3],\n",
        "           label = 'Validation Accuracy')\n",
        "plt.legend(frameon=False)\n",
        "plt.xlabel('Epochs')\n",
        "plt.ylabel('Accuracy')\n",
        "plt.show()\n",
        "\n",
        "\n",
        "sns.despine()\n",
        "plt.plot(epochs, train_loss, marker='o',markerfacecolor=colors_green[2],color=colors_green[3],\n",
        "           label ='Training Loss')\n",
        "plt.plot(epochs, val_loss, marker='o',markerfacecolor=colors_red[2],color=colors_red[3],\n",
        "           label = 'Validation Loss')\n",
        "plt.legend(frameon=False)\n",
        "plt.xlabel('Epochs')\n",
        "plt.ylabel('Training & Validation Loss')\n",
        "plt.show()\n",
        "print ('================')\n",
        "print ('  ')\n",
        "# Python 3 code to find sum\n",
        "# of elements in given array\n",
        "def _sum(arr):\n",
        "\t\n",
        "\t# initialize a variable\n",
        "\t# to store the sum\n",
        "\t# while iterating through\n",
        "\t# the array later\n",
        "\tsum=0\n",
        "\t\n",
        "\t# iterate through the array\n",
        "\t# and add each element to the sum variable\n",
        "\t# one at a time\n",
        "\tfor i in arr:\n",
        "\t\tsum = sum + i\n",
        "\t\t\n",
        "\treturn(sum)\n",
        "\n",
        "# driver function\n",
        "arr=[]\n",
        "# input values to list\n",
        "#arr = [12, 3, 4, 15]\n",
        "val_acc = history.history['val_accuracy']\n",
        "arr = val_acc\n",
        "# calculating length of array\n",
        "n = len(arr)\n",
        "\n",
        "ans = _sum(arr)\n",
        "accuracy = (ans/A)*100\n",
        "accuracy = round(accuracy, 2)\n",
        "# display sum\n",
        "print ('accuracy:', accuracy, '%')\n",
        "\n",
        "# This code is contributed by Himanshu Ranjan"
      ],
      "metadata": {
        "colab": {
          "base_uri": "https://localhost:8080/",
          "height": 595
        },
        "id": "f4Y0Xg7-kRC3",
        "outputId": "60ac7ae2-2e6c-4992-d114-a913ebac7a83"
      },
      "execution_count": null,
      "outputs": [
        {
          "output_type": "display_data",
          "data": {
            "text/plain": [
              "<Figure size 432x288 with 1 Axes>"
            ],
            "image/png": "[encoded data removed]"
          },
          "metadata": {
            "needs_background": "light"
          }
        },
        {
          "output_type": "display_data",
          "data": {
            "text/plain": [
              "<Figure size 432x288 with 1 Axes>"
            ],
            "image/png": "[encoded data removed]"
          },
          "metadata": {
            "needs_background": "light"
          }
        },
        {
          "output_type": "stream",
          "name": "stdout",
          "text": [
            "================\n",
            "  \n",
            "accuracy: 93.87 %\n"
          ]
        }
      ]
    }
  ],
  "metadata": {
    "colab": {
      "name": "Test2_bisindo (ALL words)_8APRIL.ipynb",
      "provenance": []
    },
    "kernelspec": {
      "display_name": "Python 3",
      "name": "python3"
    },
    "language_info": {
      "name": "python"
    }
  },
  "nbformat": 4,
  "nbformat_minor": 0
}